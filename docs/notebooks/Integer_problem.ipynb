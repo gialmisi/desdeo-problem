{
 "cells": [
  {
   "cell_type": "code",
   "execution_count": 97,
   "metadata": {},
   "outputs": [],
   "source": [
    "# Load problem from data\n",
    "import numpy as np\n",
    "import pandas as pd\n",
    "\n",
    "from desdeo_problem.problem import IntegerVariable, VectorObjective, MOProblem\n",
    "\n",
    "data = pd.read_fwf(\"~/Downloads/example_data.txt\")\n",
    "data = data.iloc[:, 1:]\n",
    "\n",
    "# Assume that each unit has strategies between min and max without missing intermediate values\n",
    "min_strategies = data.groupby(\"unit\").min()[\"schedule\"].values\n",
    "max_strategies = data.groupby(\"unit\").max()[\"schedule\"].values\n",
    "\n",
    "# Global min and max for each strategy\n",
    "min_strategy_g = 1\n",
    "max_strategy_g = np.max(max_strategies)\n",
    "\n",
    "n_objectives = 7\n",
    "n_variables = 100"
   ]
  },
  {
   "cell_type": "code",
   "execution_count": 211,
   "metadata": {},
   "outputs": [],
   "source": [
    "# Define variables\n",
    "var_names = [f\"Unit {i+1}\" for i in range(n_variables)]\n",
    "vars = [IntegerVariable(var_names[i], initial_value=0, lower_bound=min_strategy_g-1, upper_bound=max_strategy_g-1) for i in range(n_variables)]"
   ]
  },
  {
   "cell_type": "code",
   "execution_count": 212,
   "metadata": {},
   "outputs": [
    {
     "data": {
      "text/plain": [
       "893"
      ]
     },
     "execution_count": 212,
     "metadata": {},
     "output_type": "execute_result"
    }
   ],
   "source": [
    "# Define a lookup table using the df to speed up evaluation\n",
    "lookup_t = data.copy()\n",
    "lookup_t = lookup_t.iloc[:, 2:]\n",
    "units, schedules = data[\"unit\"], data[\"schedule\"]\n",
    "lookup_t.insert(0, \"unit & schedule\", list(zip(units, schedules)))\n",
    "len(lookup_t)"
   ]
  },
  {
   "cell_type": "code",
   "execution_count": 213,
   "metadata": {},
   "outputs": [],
   "source": [
    "# df.loc[df['column_name'] != some_value]\n",
    "# lookup_t.loc[lookup_t[\"unit & schedule\"] == (1,60)].iloc[:, 1:].values\n",
    "table = np.full((n_variables, max_strategy_g, n_objectives), np.inf)\n",
    "table[units.values-1, schedules.values-1] = data.iloc[:, 2:]"
   ]
  },
  {
   "cell_type": "code",
   "execution_count": 226,
   "metadata": {},
   "outputs": [
    {
     "data": {
      "text/plain": [
       "ObjectiveEvaluationResults(objectives=(array([-221564.95,   -3846.59,   -9867.62,   -3168.64,  -10610.84,\n",
       "         -2298.76,  -12585.24]), array([-inf, -inf, -inf, -inf, -inf, -inf, -inf])), uncertainity=array([[nan, nan, nan, nan, nan, nan, nan],\n",
       "       [nan, nan, nan, nan, nan, nan, nan]]))"
      ]
     },
     "execution_count": 226,
     "metadata": {},
     "output_type": "execute_result"
    }
   ],
   "source": [
    "# Define objective\n",
    "def objective(x: np.ndarray, table: np.ndarray = table) -> np.ndarray:\n",
    "    x = np.atleast_2d(x)\n",
    "    if x.ndim == 2:\n",
    "        # int values\n",
    "        units = np.arange(x.shape[1], dtype=int)\n",
    "        # minus because original problem is to be maximized\n",
    "        return -table[units, x, :].sum(axis=1)\n",
    "        \n",
    "    elif x.ndim == 3:\n",
    "        # vector of 1s and 0s\n",
    "        print(x)\n",
    "        pass\n",
    "    print(x.shape)\n",
    "\n",
    "# Objective names\n",
    "objective_names = data.columns[2:]\n",
    "\n",
    "objective = VectorObjective(objective_names, objective)\n",
    "objective.evaluate(np.vstack((np.zeros((1, 100), dtype=int), np.ones((1, 100), dtype=int))))"
   ]
  },
  {
   "cell_type": "code",
   "execution_count": 209,
   "metadata": {},
   "outputs": [],
   "source": [
    "#zeros = np.zeros((2,100), dtype=int)\n",
    "#units = np.arange(100, dtype=int)\n",
    "#table[units, zeros, :].sum(axis=1)"
   ]
  },
  {
   "cell_type": "code",
   "execution_count": 210,
   "metadata": {},
   "outputs": [
    {
     "name": "stdout",
     "output_type": "stream",
     "text": [
      "[1 1 1 1 1 1 1 1 1 1 1 1 1 1 1 1 1 1 1 1 1 1 1 1 1 1 1 1 1 1 1 1 1 1 1 1 1\n",
      " 1 1 1 1 1 1 1 1 1 1 1 1 1 1 1 1 1 1 1 1 1 1 1 1 1 1 1 1 1 1 1 1 1 1 1 1 1\n",
      " 1 1 1 1 1 1 1 1 1 1 1 1 1 1 1 1 1 1 1 1 1 1 1 1 1 1]\n"
     ]
    },
    {
     "data": {
      "text/plain": [
       "array([[inf, inf, inf, inf, inf, inf, inf]])"
      ]
     },
     "execution_count": 210,
     "metadata": {},
     "output_type": "execute_result"
    }
   ],
   "source": [
    "objective(np.ones(100, dtype=int))"
   ]
  },
  {
   "cell_type": "code",
   "execution_count": null,
   "metadata": {},
   "outputs": [],
   "source": [
    "# Define problem\n",
    "problem = "
   ]
  }
 ],
 "metadata": {
  "kernelspec": {
   "display_name": "problem",
   "language": "python",
   "name": "problem"
  },
  "language_info": {
   "codemirror_mode": {
    "name": "ipython",
    "version": 3
   },
   "file_extension": ".py",
   "mimetype": "text/x-python",
   "name": "python",
   "nbconvert_exporter": "python",
   "pygments_lexer": "ipython3",
   "version": "3.9.7"
  }
 },
 "nbformat": 4,
 "nbformat_minor": 4
}
